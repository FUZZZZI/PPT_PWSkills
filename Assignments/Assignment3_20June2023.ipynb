{
 "cells": [
  {
   "attachments": {},
   "cell_type": "markdown",
   "metadata": {},
   "source": [
    "Question 1\n",
    "Given an integer array nums of length n and an integer target, find three integers\n",
    "in nums such that the sum is closest to the target.\n",
    "Return the sum of the three integers.\n",
    "\n",
    "You may assume that each input would have exactly one solution.\n",
    "\n",
    "Example 1:\n",
    "Input: nums = [-1,2,1,-4], target = 1\n",
    "Output: 2\n",
    "\n",
    "Explanation: The sum that is closest to the target is 2. (-1 + 2 + 1 = 2)."
   ]
  },
  {
   "cell_type": "code",
   "execution_count": 55,
   "metadata": {},
   "outputs": [
    {
     "data": {
      "text/plain": [
       "2"
      ]
     },
     "execution_count": 55,
     "metadata": {},
     "output_type": "execute_result"
    }
   ],
   "source": [
    "nums = [-1,2,1,-4]\n",
    "len(nums)\n",
    "\n",
    "def closest_sum(nums, target):\n",
    "  closest_sum = float(\"inf\")\n",
    "  for i in range(len(nums)):\n",
    "    for j in range(i + 1, len(nums)):\n",
    "      for k in range(j + 1, len(nums)):\n",
    "        sum = nums[i] + nums[j] + nums[k]\n",
    "        if abs(sum - target) < abs(closest_sum - target):\n",
    "          closest_sum = sum\n",
    "  return closest_sum\n",
    "closest_sum(nums=nums,target=target)"
   ]
  },
  {
   "attachments": {},
   "cell_type": "markdown",
   "metadata": {},
   "source": [
    "Question 2\n",
    "Given an array nums of n integers, return an array of all the unique quadruplets\n",
    "[nums[a], nums[b], nums[c], nums[d]] such that:\n",
    "\n",
    "           ● 0 <= a, b, c, d < n\n",
    "\n",
    "           ● a, b, c, and d are distinct.\n",
    "           \n",
    "           ● nums[a] + nums[b] + nums[c] + nums[d] == target\n",
    "\n",
    "You may return the answer in any order.\n",
    "\n",
    "Example 1:\n",
    "Input: nums = [1,0,-1,0,-2,2], target = 0\n",
    "Output: [[-2,-1,1,2],[-2,0,0,2],[-1,0,0,1]]"
   ]
  },
  {
   "cell_type": "code",
   "execution_count": 61,
   "metadata": {},
   "outputs": [
    {
     "data": {
      "text/plain": [
       "[[-2, -1, 1, 2], [-2, 0, 0, 2], [-1, 0, 0, 1]]"
      ]
     },
     "execution_count": 61,
     "metadata": {},
     "output_type": "execute_result"
    }
   ],
   "source": [
    "def four_sum(nums, target):\n",
    "  quadruplets = []\n",
    "  nums.sort()\n",
    "  for i in range(len(nums)):\n",
    "    if i > 0 and nums[i] == nums[i - 1]:\n",
    "      continue\n",
    "    for j in range(i + 1, len(nums)):\n",
    "      if j > i + 1 and nums[j] == nums[j - 1]:\n",
    "        continue\n",
    "      left = j + 1\n",
    "      right = len(nums) - 1\n",
    "      while left < right:\n",
    "        sum = nums[i] + nums[j] + nums[left] + nums[right]\n",
    "        if sum == target:\n",
    "          quadruplets.append([nums[i], nums[j], nums[left], nums[right]])\n",
    "          left += 1\n",
    "          right -= 1\n",
    "        elif sum < target:\n",
    "          left += 1\n",
    "        else:\n",
    "          right -= 1\n",
    "  return quadruplets\n",
    "\n",
    "nums = [1,0,-1,0,-2,2]\n",
    "target = 0\n",
    "four_sum(nums,target)"
   ]
  },
  {
   "attachments": {},
   "cell_type": "markdown",
   "metadata": {},
   "source": [
    "<aside>\n",
    "💡 **Question 3**\n",
    "A permutation of an array of integers is an arrangement of its members into a\n",
    "sequence or linear order.\n",
    "\n",
    "For example, for arr = [1,2,3], the following are all the permutations of arr:\n",
    "[1,2,3], [1,3,2], [2, 1, 3], [2, 3, 1], [3,1,2], [3,2,1].\n",
    "\n",
    "The next permutation of an array of integers is the next lexicographically greater\n",
    "permutation of its integer. More formally, if all the permutations of the array are\n",
    "sorted in one container according to their lexicographical order, then the next\n",
    "permutation of that array is the permutation that follows it in the sorted container.\n",
    "\n",
    "If such an arrangement is not possible, the array must be rearranged as the\n",
    "lowest possible order (i.e., sorted in ascending order).\n",
    "\n",
    "● For example, the next permutation of arr = [1,2,3] is [1,3,2].\n",
    "● Similarly, the next permutation of arr = [2,3,1] is [3,1,2].\n",
    "● While the next permutation of arr = [3,2,1] is [1,2,3] because [3,2,1] does not\n",
    "have a lexicographical larger rearrangement.\n",
    "\n",
    "Given an array of integers nums, find the next permutation of nums.\n",
    "The replacement must be in place and use only constant extra memory.\n",
    "\n",
    "**Example 1:**\n",
    "Input: nums = [1,2,3]\n",
    "Output: [1,3,2]\n",
    "\n",
    "</aside>"
   ]
  },
  {
   "cell_type": "code",
   "execution_count": 63,
   "metadata": {},
   "outputs": [
    {
     "data": {
      "text/plain": [
       "[1, 3, 2]"
      ]
     },
     "execution_count": 63,
     "metadata": {},
     "output_type": "execute_result"
    }
   ],
   "source": [
    "def next_permutation(nums):\n",
    "  i = len(nums) - 2\n",
    "  while i >= 0 and nums[i] >= nums[i + 1]:\n",
    "    i -= 1\n",
    "  if i < 0:\n",
    "    nums.reverse()\n",
    "    return nums\n",
    "  j = len(nums) - 1\n",
    "  while j > i and nums[j] <= nums[i]:\n",
    "    j -= 1\n",
    "  nums[i], nums[j] = nums[j], nums[i]\n",
    "  nums[i + 1:] = nums[i + 1:][::-1]\n",
    "  return nums\n",
    "\n",
    "nums = [1,2,3]\n",
    "next_permutation(nums)"
   ]
  },
  {
   "attachments": {},
   "cell_type": "markdown",
   "metadata": {},
   "source": [
    "Question 4\n",
    "Given a sorted array of distinct integers and a target value, return the index if the\n",
    "target is found. If not, return the index where it would be if it were inserted in\n",
    "order.\n",
    "\n",
    "You must write an algorithm with O(log n) runtime complexity.\n",
    "\n",
    "Example 1:\n",
    "Input: nums = [1,3,5,6], target = 5\n",
    "Output: 2"
   ]
  },
  {
   "cell_type": "code",
   "execution_count": 64,
   "metadata": {},
   "outputs": [
    {
     "data": {
      "text/plain": [
       "2"
      ]
     },
     "execution_count": 64,
     "metadata": {},
     "output_type": "execute_result"
    }
   ],
   "source": [
    "def search_insert(nums, target):\n",
    "  low = 0\n",
    "  high = len(nums) - 1\n",
    "  while low <= high:\n",
    "    mid = (low + high) // 2\n",
    "    if nums[mid] == target:\n",
    "      return mid\n",
    "    elif nums[mid] < target:\n",
    "      low = mid + 1\n",
    "    else:\n",
    "      high = mid - 1\n",
    "  return low\n",
    "\n",
    "nums = [1,3,5,6]\n",
    "target = 5\n",
    "search_insert(nums,target)"
   ]
  },
  {
   "attachments": {},
   "cell_type": "markdown",
   "metadata": {},
   "source": [
    "<aside>\n",
    "💡 **Question 5**\n",
    "You are given a large integer represented as an integer array digits, where each\n",
    "digits[i] is the ith digit of the integer. The digits are ordered from most significant\n",
    "to least significant in left-to-right order. The large integer does not contain any\n",
    "leading 0's.\n",
    "\n",
    "Increment the large integer by one and return the resulting array of digits.\n",
    "\n",
    "**Example 1:**\n",
    "Input: digits = [1,2,3]\n",
    "Output: [1,2,4]\n",
    "\n",
    "**Explanation:** The array represents the integer 123.\n",
    "Incrementing by one gives 123 + 1 = 124.\n",
    "Thus, the result should be [1,2,4].\n",
    "\n",
    "</aside>"
   ]
  },
  {
   "cell_type": "code",
   "execution_count": 70,
   "metadata": {},
   "outputs": [
    {
     "data": {
      "text/plain": [
       "[1, 2, 3, 6, 0]"
      ]
     },
     "execution_count": 70,
     "metadata": {},
     "output_type": "execute_result"
    }
   ],
   "source": [
    "def increment_integer(digits):\n",
    "  carry = 1\n",
    "  # Iterate through the array from rightmost to leftmost\n",
    "  for i in range(len(digits) - 1, 1, -1):\n",
    "    # Increment the element and set the carry flag if necessary\n",
    "    digits[i] += carry\n",
    "    if digits[i] == 10:\n",
    "      digits[i] = 0\n",
    "      carry = 1\n",
    "    else:\n",
    "      carry = 0\n",
    "  # If the carry flag is set, insert a 1 at the front of the array\n",
    "  if carry == 1:\n",
    "    digits.insert(0, 1)\n",
    "  return digits\n",
    "\n",
    "digits = [1,2,3,5,9]\n",
    "increment_integer(digits)"
   ]
  },
  {
   "attachments": {},
   "cell_type": "markdown",
   "metadata": {},
   "source": [
    "Question 6\n",
    "Given a non-empty array of integers nums, every element appears twice except\n",
    "for one. Find that single one.\n",
    "\n",
    "You must implement a solution with a linear runtime complexity and use only\n",
    "constant extra space.\n",
    "\n",
    "Example 1:\n",
    "Input: nums = [2,2,1]\n",
    "Output: 1"
   ]
  },
  {
   "cell_type": "code",
   "execution_count": 71,
   "metadata": {},
   "outputs": [
    {
     "data": {
      "text/plain": [
       "1"
      ]
     },
     "execution_count": 71,
     "metadata": {},
     "output_type": "execute_result"
    }
   ],
   "source": [
    "def find_single_element(nums):\n",
    "  seen = {}\n",
    "  for num in nums:\n",
    "    if num in seen:\n",
    "      seen[num] += 1\n",
    "    else:\n",
    "      seen[num] = 1\n",
    "\n",
    "  for num, count in seen.items():\n",
    "    if count == 1:\n",
    "      return num\n",
    "  return None\n",
    "\n",
    "nums=[2,2,1]\n",
    "find_single_element(nums)\n"
   ]
  },
  {
   "attachments": {},
   "cell_type": "markdown",
   "metadata": {},
   "source": [
    "Question 7\n",
    "You are given an inclusive range [lower, upper] and a sorted unique integer array\n",
    "nums, where all elements are within the inclusive range.\n",
    "\n",
    "A number x is considered missing if x is in the range [lower, upper] and x is not in\n",
    "nums.\n",
    "\n",
    "Return the shortest sorted list of ranges that exactly covers all the missing\n",
    "numbers. That is, no element of nums is included in any of the ranges, and each\n",
    "missing number is covered by one of the ranges.\n",
    "\n",
    "Example 1:\n",
    "Input: nums = [0,1,3,50,75], lower = 0, upper = 99\n",
    "Output: [[2,2],[4,49],[51,74],[76,99]]\n",
    "\n",
    "Explanation: The ranges are:\n",
    "[2,2]\n",
    "[4,49]\n",
    "[51,74]\n",
    "[76,99]"
   ]
  },
  {
   "cell_type": "code",
   "execution_count": 78,
   "metadata": {},
   "outputs": [
    {
     "name": "stdout",
     "output_type": "stream",
     "text": [
      "[[2, 2], [4, 49], [51, 74], [75, 99]]\n"
     ]
    }
   ],
   "source": [
    "def find_missing_ranges(nums, lower, upper):\n",
    "  ranges = []\n",
    "  current_range = [lower]\n",
    "  for num in nums:\n",
    "    if num < current_range[-1]:\n",
    "      raise ValueError(\"The array nums must be sorted and unique.\")\n",
    "    if num == current_range[-1]:\n",
    "      continue\n",
    "    if current_range[-1] + 1 < num:\n",
    "      ranges.append([current_range[-1]+1, num - 1])\n",
    "    current_range = [num]\n",
    "  if current_range[-1] < upper:\n",
    "    ranges.append([current_range[-1], upper])\n",
    "  return ranges\n",
    "\n",
    "nums = [0,1,3,50,75]\n",
    "lower = 0\n",
    "upper = 99\n",
    "print(find_missing_ranges(nums,lower,upper))"
   ]
  },
  {
   "attachments": {},
   "cell_type": "markdown",
   "metadata": {},
   "source": [
    "Question 8\n",
    "Given an array of meeting time intervals where intervals[i] = [starti, endi],\n",
    "determine if a person could attend all meetings.\n",
    "\n",
    "Example 1:\n",
    "Input: intervals = [[0,30],[5,10],[15,20]]\n",
    "Output: false"
   ]
  },
  {
   "cell_type": "code",
   "execution_count": 80,
   "metadata": {},
   "outputs": [
    {
     "data": {
      "text/plain": [
       "False"
      ]
     },
     "execution_count": 80,
     "metadata": {},
     "output_type": "execute_result"
    }
   ],
   "source": [
    "def can_attend_all_meetings(intervals):\n",
    "  intervals.sort(key=lambda x: x[0])\n",
    "  for i in range(1, len(intervals)):\n",
    "    if intervals[i][0] < intervals[i - 1][1]:\n",
    "      return False\n",
    "  return True\n",
    "\n",
    "intervals = [[0,30],[5,10],[15,20]]\n",
    "can_attend_all_meetings(intervals)"
   ]
  }
 ],
 "metadata": {
  "kernelspec": {
   "display_name": "base",
   "language": "python",
   "name": "python3"
  },
  "language_info": {
   "name": "python",
   "version": "3.10.9"
  },
  "orig_nbformat": 4
 },
 "nbformat": 4,
 "nbformat_minor": 2
}
